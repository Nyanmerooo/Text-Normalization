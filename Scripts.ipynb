{
 "cells": [
  {
   "cell_type": "markdown",
   "metadata": {},
   "source": [
    "# Date"
   ]
  },
  {
   "cell_type": "code",
   "execution_count": 44,
   "metadata": {},
   "outputs": [],
   "source": [
    "import re"
   ]
  },
  {
   "cell_type": "code",
   "execution_count": 45,
   "metadata": {},
   "outputs": [],
   "source": [
    "date_rule = r'Rules\\Date.txt'\n",
    "with open(date_rule, 'r') as f:\n",
    "    date_rules = [r'{}'.format(rule) for rule in f.readlines()]"
   ]
  },
  {
   "cell_type": "code",
   "execution_count": 46,
   "metadata": {},
   "outputs": [],
   "source": [
    "def expand_date(match):\n",
    "    parts = re.split(r'\\s?[-/.]\\s?', match.group())\n",
    "    if len(parts) == 3:\n",
    "        day, month, year = parts\n",
    "        return f'{day} tháng {month} năm {year}'\n",
    "    elif len(parts) == 2:\n",
    "        day, month = parts\n",
    "        return f'{day} tháng {month}'"
   ]
  },
  {
   "cell_type": "code",
   "execution_count": 54,
   "metadata": {},
   "outputs": [],
   "source": [
    "text = 'Hôm nay là 15/12/2022. Ngày mai là 16-12. Ngày mốt là 17.12.2022.'"
   ]
  },
  {
   "cell_type": "code",
   "execution_count": 55,
   "metadata": {},
   "outputs": [],
   "source": [
    "for rule in date_rules:\n",
    "    rule = rule.strip() \n",
    "    text = re.sub(rule, expand_date, text)\n"
   ]
  },
  {
   "cell_type": "code",
   "execution_count": 56,
   "metadata": {},
   "outputs": [
    {
     "data": {
      "text/plain": [
       "'Hôm nay là 15 tháng 12 năm 2022. Ngày mai là 16 tháng 12. Ngày mốt là 17 tháng 12 năm 2022.'"
      ]
     },
     "execution_count": 56,
     "metadata": {},
     "output_type": "execute_result"
    }
   ],
   "source": [
    "text"
   ]
  },
  {
   "cell_type": "markdown",
   "metadata": {},
   "source": [
    "# Time"
   ]
  },
  {
   "cell_type": "code",
   "execution_count": 50,
   "metadata": {},
   "outputs": [],
   "source": [
    "time_rule = r'Rules\\Time.txt'\n",
    "with open(time_rule, 'r') as f:\n",
    "    time_rules = [r'{}'.format(rule) for rule in f.readlines()]"
   ]
  },
  {
   "cell_type": "code",
   "execution_count": 51,
   "metadata": {},
   "outputs": [],
   "source": [
    "def expand_time(match):\n",
    "    parts = re.split(r'\\s?[hg]\\s?', match.group())\n",
    "    hour, minute = parts\n",
    "    return f'{hour} giờ {minute} phút'\n"
   ]
  },
  {
   "cell_type": "code",
   "execution_count": 52,
   "metadata": {},
   "outputs": [],
   "source": [
    "text = \"vào lúc 15g20 tới 15h30\""
   ]
  },
  {
   "cell_type": "code",
   "execution_count": 53,
   "metadata": {},
   "outputs": [],
   "source": [
    "for rule in time_rules:\n",
    "    rule = rule.strip() \n",
    "    text = re.sub(rule, expand_time, text)"
   ]
  },
  {
   "cell_type": "code",
   "execution_count": 43,
   "metadata": {},
   "outputs": [
    {
     "data": {
      "text/plain": [
       "'vào lúc 15 giờ 20 phút tới 15 giờ 30 phút'"
      ]
     },
     "execution_count": 43,
     "metadata": {},
     "output_type": "execute_result"
    }
   ],
   "source": [
    "text"
   ]
  },
  {
   "cell_type": "markdown",
   "metadata": {},
   "source": [
    "# Number"
   ]
  },
  {
   "cell_type": "markdown",
   "metadata": {},
   "source": [
    "# Acronyms"
   ]
  },
  {
   "cell_type": "markdown",
   "metadata": {},
   "source": [
    "# Currency"
   ]
  }
 ],
 "metadata": {
  "kernelspec": {
   "display_name": "Python 3",
   "language": "python",
   "name": "python3"
  },
  "language_info": {
   "codemirror_mode": {
    "name": "ipython",
    "version": 3
   },
   "file_extension": ".py",
   "mimetype": "text/x-python",
   "name": "python",
   "nbconvert_exporter": "python",
   "pygments_lexer": "ipython3",
   "version": "3.12.2"
  }
 },
 "nbformat": 4,
 "nbformat_minor": 2
}
